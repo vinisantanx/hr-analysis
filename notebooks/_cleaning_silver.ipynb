{
 "cells": [
  {
   "cell_type": "code",
   "execution_count": 1,
   "id": "fe08f8a9",
   "metadata": {},
   "outputs": [],
   "source": [
    "import re\n",
    "import pandas as pd\n",
    "df = pd.read_csv('../data/hr_dataset.csv') #type: ignore"
   ]
  },
  {
   "cell_type": "code",
   "execution_count": 2,
   "id": "5dc3be0c",
   "metadata": {},
   "outputs": [],
   "source": [
    "# Removendo colunas constantes\n",
    "df_01 = df.drop(columns=['EmployeeCount', 'Over18', 'StandardHours'], axis=1).copy()"
   ]
  },
  {
   "cell_type": "code",
   "execution_count": 3,
   "id": "103ea7fd",
   "metadata": {},
   "outputs": [
    {
     "name": "stderr",
     "output_type": "stream",
     "text": [
      "C:\\Users\\Marcos\\AppData\\Local\\Temp\\ipykernel_2376\\3853291871.py:7: FutureWarning: Downcasting behavior in `replace` is deprecated and will be removed in a future version. To retain the old behavior, explicitly call `result.infer_objects(copy=False)`. To opt-in to the future behavior, set `pd.set_option('future.no_silent_downcasting', True)`\n",
      "  df_01.replace(replace_values, inplace=True)\n"
     ]
    }
   ],
   "source": [
    "# Transformando 'Yes' | No da coluna atrition em '0' | '1'\n",
    "replace_values = {\n",
    "    'Attrition': {'Yes': 1, 'No': 0},\n",
    "    'OverTime': {'Yes': 1, 'No': 0},\n",
    "    'Gender': {'Male': 1, 'Female': 0}\n",
    "}\n",
    "df_01.replace(replace_values, inplace=True)\n"
   ]
  },
  {
   "cell_type": "code",
   "execution_count": 4,
   "id": "a8a67cca",
   "metadata": {},
   "outputs": [],
   "source": [
    "# renomeando as colunas para o padrão snake_case\n",
    "df_final = df_01.rename(columns={cols: re.sub(r'(?<!^)(?=[A-Z])|(?<=[a-zA-Z])(?=\\d)', '_', cols).lower() for cols in df.columns})"
   ]
  },
  {
   "cell_type": "code",
   "execution_count": 5,
   "id": "d6879f69",
   "metadata": {},
   "outputs": [],
   "source": [
    "df_final.to_csv('../data/hr_dataset_silver.csv', index=False) #type: ignore"
   ]
  },
  {
   "cell_type": "markdown",
   "id": "3fe9807d",
   "metadata": {},
   "source": []
  }
 ],
 "metadata": {
  "kernelspec": {
   "display_name": "analysis",
   "language": "python",
   "name": "python3"
  },
  "language_info": {
   "codemirror_mode": {
    "name": "ipython",
    "version": 3
   },
   "file_extension": ".py",
   "mimetype": "text/x-python",
   "name": "python",
   "nbconvert_exporter": "python",
   "pygments_lexer": "ipython3",
   "version": "3.13.7"
  }
 },
 "nbformat": 4,
 "nbformat_minor": 5
}
